{
 "cells": [
  {
   "cell_type": "markdown",
   "metadata": {},
   "source": [
    "# Projeto de Machine Learning: Diagnóstico de Câncer de Mama\n",
    "\n",
    "## Introdução\n",
    "Este projeto tem como objetivo desenvolver modelos preditivos capazes de classificar diagnósticos de câncer de mama como **malignos** ou **benignos**, utilizando o clássico conjunto de dados **Breast Cancer Wisconsin (Diagnostic)**, disponível no Kaggle.\n",
    "\n",
    "O foco principal é minimizar a quantidade de **falsos negativos** — ou seja, evitar que casos malignos sejam classificados incorretamente como benignos. Esse cuidado é especialmente importante em contextos clínicos, onde a falha na detecção de um tumor pode ter consequências graves.\n",
    "\n",
    "### Etapas do projeto:\n",
    "- Análise exploratória e tratamento dos dados;\n",
    "- Seleção de variáveis utilizando diferentes técnicas:\n",
    "  - Correlação,\n",
    "  - PCA (Principal Component Analysis),\n",
    "  - RFE (Recursive Feature Elimination),\n",
    "  - SelectKBest;\n",
    "- Treinamento de diversos algoritmos de classificação:\n",
    "  - Regressão Logística,\n",
    "  - Random Forest,\n",
    "  - XGBoost,\n",
    "  - Support Vector Classifier (SVC),\n",
    "  - K-Nearest Neighbors (KNN);\n",
    "- Avaliação e comparação dos modelos com base nas métricas:\n",
    "  - **Recall**,\n",
    "  - **F1-Score**,\n",
    "  - **Precision**,\n",
    "  - **Accuracy**,\n",
    "  - **AUC-ROC**;\n",
    "\n",
    "Ao final, os resultados obtidos são comparados e discutidos, com destaque para o modelo que melhor atende ao objetivo principal: **reduzir os falsos negativos sem comprometer o desempenho geral da classificação.**"
   ]
  },
  {
   "cell_type": "markdown",
   "metadata": {},
   "source": [
    "## Importando as biliotecas"
   ]
  },
  {
   "cell_type": "code",
   "execution_count": null,
   "metadata": {},
   "outputs": [],
   "source": [
    "import os\n",
    "import sys\n",
    "import joblib\n",
    "\n",
    "import matplotlib.pyplot as plt\n",
    "import numpy as np\n",
    "import pandas as pd\n",
    "import seaborn as sns\n",
    "import shap\n",
    "from sklearn.decomposition import PCA\n",
    "from sklearn.feature_selection import RFECV, SelectKBest, f_classif\n",
    "from sklearn.linear_model import LogisticRegression\n",
    "from sklearn.ensemble import RandomForestClassifier\n",
    "from sklearn.metrics import (\n",
    "    RocCurveDisplay, accuracy_score, auc, classification_report,\n",
    "    confusion_matrix, f1_score, precision_score, recall_score,\n",
    "    roc_auc_score, roc_curve\n",
    ")\n",
    "from sklearn.model_selection import RepeatedStratifiedKFold, StratifiedKFold, cross_val_score\n",
    "from sklearn.pipeline import Pipeline\n",
    "from sklearn.preprocessing import StandardScaler\n",
    "from xgboost import XGBClassifier\n",
    "from sklearn.svm import SVC\n",
    "\n",
    "sys.path.append(os.path.abspath(\"..\"))\n",
    "from src.feature_selection import feature_selection_rfe_xgb\n",
    "from src.model_evaluation import (\n",
    "    make_pipeline, evaluate_model, plot_confusion_matrix, train_and_evaluate_model\n",
    ")\n",
    "from src.models import (\n",
    "    plot_multiple_roc_auc, train_knn, train_logistic_regression,\n",
    "    train_random_forest, train_svc, train_xgboost\n",
    ")\n",
    "\n",
    "from src.utils import (\n",
    "    load_data, plot_correlation_heatmap, plot_swarm_features,\n",
    "    plot_violin_features, show_basic_info, split_data\n",
    ")\n",
    "\n",
    "from sklearn.neighbors import KNeighborsClassifier\n",
    "\n",
    "import shap\n",
    "\n",
    "plt.style.use('seaborn-v0_8-darkgrid')"
   ]
  },
  {
   "cell_type": "markdown",
   "metadata": {
    "id": "KN4fDyULw5Bd"
   },
   "source": [
    "## Carregando e explorando os dados"
   ]
  },
  {
   "cell_type": "code",
   "execution_count": null,
   "metadata": {
    "id": "s26UTK1cPLEp"
   },
   "outputs": [],
   "source": [
    "df = load_data(\"../data/breast cancer kaggle.csv\")"
   ]
  },
  {
   "cell_type": "code",
   "execution_count": null,
   "metadata": {},
   "outputs": [],
   "source": [
    "df.head()"
   ]
  },
  {
   "cell_type": "code",
   "execution_count": null,
   "metadata": {
    "colab": {
     "base_uri": "https://localhost:8080/"
    },
    "id": "T_ZZUegBPZrY",
    "outputId": "5c28fdfa-8dad-4c6f-959c-aeaa475086b4"
   },
   "outputs": [],
   "source": [
    "show_basic_info(df)"
   ]
  },
  {
   "cell_type": "markdown",
   "metadata": {},
   "source": [
    "# Pré-processamento dos dados"
   ]
  },
  {
   "cell_type": "markdown",
   "metadata": {},
   "source": [
    "## Codificando dados categóricos"
   ]
  },
  {
   "cell_type": "code",
   "execution_count": null,
   "metadata": {
    "id": "8UFo5SoiYFQe"
   },
   "outputs": [],
   "source": [
    "df['diagnosis'] = df['diagnosis'].map({'M': 1, 'B': 0})"
   ]
  },
  {
   "cell_type": "markdown",
   "metadata": {},
   "source": [
    "## Checando se algum ID se repete"
   ]
  },
  {
   "cell_type": "code",
   "execution_count": null,
   "metadata": {},
   "outputs": [],
   "source": [
    "df['id'].duplicated().sum()"
   ]
  },
  {
   "cell_type": "markdown",
   "metadata": {},
   "source": [
    "## Verificando valores nulos"
   ]
  },
  {
   "cell_type": "code",
   "execution_count": null,
   "metadata": {},
   "outputs": [],
   "source": [
    "df.isnull().sum()"
   ]
  },
  {
   "cell_type": "code",
   "execution_count": null,
   "metadata": {
    "colab": {
     "base_uri": "https://localhost:8080/",
     "height": 273
    },
    "id": "wwyRuitGQwXr",
    "outputId": "c7410caa-65f0-47d9-ea95-814904f184b2"
   },
   "outputs": [],
   "source": [
    "y = df['diagnosis']\n",
    "\n",
    "drop_list = [\n",
    "    'Unnamed: 32',\n",
    "    'id',\n",
    "    'diagnosis'\n",
    "]\n",
    "\n",
    "X = df.drop(drop_list, axis = 1 )\n",
    "X.head()"
   ]
  },
  {
   "cell_type": "markdown",
   "metadata": {
    "id": "gHoqgFMnqgSZ"
   },
   "source": [
    "## Observando a distribuição das classes no dataset"
   ]
  },
  {
   "cell_type": "code",
   "execution_count": null,
   "metadata": {
    "colab": {
     "base_uri": "https://localhost:8080/",
     "height": 445
    },
    "id": "yVn-6Dk-ROlu",
    "outputId": "20052df6-2a04-4e77-e156-8ebeab7c7059"
   },
   "outputs": [],
   "source": [
    "bars = sns.countplot(x=y, hue=y, palette=['#1f77b4', '#ff7f0e'], legend=False)\n",
    "plt.title(\"Distribuição de Casos de Câncer de Mama\", fontsize=14, pad=20)\n",
    "\n",
    "for bar in bars.patches:\n",
    "    height = bar.get_height()\n",
    "    plt.text(bar.get_x() + bar.get_width() / 2, height, '{:.0f}'.format(height),\n",
    "             va='bottom', ha='center', fontsize=11)\n",
    "    \n",
    "plt.xlabel(y.name, fontsize=11)\n",
    "plt.ylabel('Frequência', fontsize=11)\n",
    "plt.legend(title=\"Classe\", labels=[\"Benigno (0)\", \"Maligno (1)\"], loc=\"upper right\")\n",
    "plt.xticks(fontsize=11)\n",
    "plt.yticks(fontsize=11)\n",
    "plt.show()"
   ]
  },
  {
   "cell_type": "code",
   "execution_count": null,
   "metadata": {},
   "outputs": [],
   "source": [
    "unique, counts = np.unique(y, return_counts=True)\n",
    "\n",
    "total = len(y)\n",
    "percentages = counts / total * 100\n",
    "\n",
    "plt.figure(figsize=(6, 6))\n",
    "plt.pie(counts, labels=[f'Classe {int(u)}' for u in unique], autopct='%1.2f%%', colors=['#1f77b4', '#ff7f0e'],\n",
    "        wedgeprops={'edgecolor': 'black', 'linewidth': 1}, textprops={'fontsize': 14})\n",
    "\n",
    "plt.show()"
   ]
  },
  {
   "cell_type": "markdown",
   "metadata": {},
   "source": [
    "Observa-se que a distribuição das classes está desbalanceada, com uma predominância de casos benignos em relação aos malignos. Esse desbalanceamento será considerado durante a construção e avaliação dos modelos preditivos."
   ]
  },
  {
   "cell_type": "markdown",
   "metadata": {
    "id": "RlU69ukjxLYh"
   },
   "source": [
    "## Visualização"
   ]
  },
  {
   "cell_type": "code",
   "execution_count": null,
   "metadata": {
    "colab": {
     "base_uri": "https://localhost:8080/",
     "height": 1000
    },
    "id": "Fry9HlenRng1",
    "outputId": "90c4fc03-a26f-4c30-f8e1-864b91e38a01"
   },
   "outputs": [],
   "source": [
    "# Primeiras quinze features\n",
    "plot_violin_features(X, y, start=0, end=15)"
   ]
  },
  {
   "cell_type": "code",
   "execution_count": null,
   "metadata": {
    "colab": {
     "base_uri": "https://localhost:8080/",
     "height": 1000
    },
    "id": "RXL57r56SCAo",
    "outputId": "e5143e58-ef5f-41f2-c8a7-ef4339a63a5d"
   },
   "outputs": [],
   "source": [
    "# Últimas quinze features\n",
    "plot_violin_features(X, y, start=15, end=30)"
   ]
  },
  {
   "cell_type": "code",
   "execution_count": null,
   "metadata": {
    "colab": {
     "base_uri": "https://localhost:8080/",
     "height": 1000
    },
    "id": "PqCNwPzpSEtn",
    "outputId": "84160870-8e6d-4772-97c9-94d8f8caaf2d"
   },
   "outputs": [],
   "source": [
    "plot_swarm_features(X, y, start=0, end=10, size = 3) # Primeiras 10 features"
   ]
  },
  {
   "cell_type": "code",
   "execution_count": null,
   "metadata": {},
   "outputs": [],
   "source": [
    "plot_swarm_features(X, y, start=10, end=20, size=2) # Próximas 10 features"
   ]
  },
  {
   "cell_type": "code",
   "execution_count": null,
   "metadata": {},
   "outputs": [],
   "source": [
    "plot_swarm_features(X, y, start=20, end=31, size=3) # Últimas 10 features"
   ]
  },
  {
   "cell_type": "code",
   "execution_count": null,
   "metadata": {
    "colab": {
     "base_uri": "https://localhost:8080/",
     "height": 1000
    },
    "id": "c1SCF1pRSbOy",
    "outputId": "692486cf-c343-42d0-efb2-2f09ad0011b0"
   },
   "outputs": [],
   "source": [
    "plot_correlation_heatmap(X, figsize=(18, 18))"
   ]
  },
  {
   "cell_type": "markdown",
   "metadata": {},
   "source": [
    "## Dividindo o dataset em conjunto de treino e teste"
   ]
  },
  {
   "cell_type": "code",
   "execution_count": null,
   "metadata": {
    "id": "wcgBI0YmTBUY"
   },
   "outputs": [],
   "source": [
    "X_train, X_test, y_train, y_test = split_data(X, y)"
   ]
  },
  {
   "cell_type": "markdown",
   "metadata": {},
   "source": [
    "## **Feature selection com correlação**"
   ]
  },
  {
   "cell_type": "code",
   "execution_count": null,
   "metadata": {},
   "outputs": [],
   "source": [
    "drop_list = ['perimeter_mean','radius_mean','compactness_mean','concave points_mean','radius_se','perimeter_se',\n",
    "             'radius_worst','perimeter_worst','compactness_worst', 'concave points_worst','compactness_se', \n",
    "             'concave points_se','texture_worst','area_worst', 'fractal_dimension_mean', 'concavity_worst', 'texture_se']"
   ]
  },
  {
   "cell_type": "code",
   "execution_count": null,
   "metadata": {},
   "outputs": [],
   "source": [
    "X_train_fs = X_train.drop(columns=drop_list)\n",
    "X_test_fs = X_test.drop(columns=drop_list)"
   ]
  },
  {
   "cell_type": "markdown",
   "metadata": {},
   "source": [
    "Observamos agora que não há mais features altamente correlacionadas."
   ]
  },
  {
   "cell_type": "code",
   "execution_count": null,
   "metadata": {},
   "outputs": [],
   "source": [
    "plot_correlation_heatmap(X_train_fs, figsize=(10, 10))"
   ]
  },
  {
   "cell_type": "markdown",
   "metadata": {},
   "source": [
    "# Treinamento e Avaliação"
   ]
  },
  {
   "cell_type": "markdown",
   "metadata": {},
   "source": [
    "## **Regressão Logística**"
   ]
  },
  {
   "cell_type": "code",
   "execution_count": null,
   "metadata": {},
   "outputs": [],
   "source": [
    "results_lr, model_lr = train_logistic_regression(\n",
    "    X_train_fs, X_test_fs, y_train, y_test,\n",
    "    model_name=\"Regressão Logística\"\n",
    ")"
   ]
  },
  {
   "cell_type": "code",
   "execution_count": null,
   "metadata": {},
   "outputs": [],
   "source": [
    "print(results_lr.to_string(index=False))"
   ]
  },
  {
   "cell_type": "markdown",
   "metadata": {
    "id": "XJDy0My7fPxH"
   },
   "source": [
    "## Cross Validation"
   ]
  },
  {
   "cell_type": "code",
   "execution_count": null,
   "metadata": {
    "colab": {
     "base_uri": "https://localhost:8080/"
    },
    "id": "4tMgWuWwam0X",
    "outputId": "40f802fb-b6e8-48aa-8604-28fdbb1f7e0e"
   },
   "outputs": [],
   "source": [
    "print(\"Validação Cruzada Regressão Logística:\")\n",
    "print(evaluate_model(\n",
    "    LogisticRegression(class_weight='balanced'), \n",
    "    X_train_fs, \n",
    "    y_train\n",
    "))"
   ]
  },
  {
   "cell_type": "markdown",
   "metadata": {
    "id": "zngYj_MTdZT_"
   },
   "source": [
    "## **Random Forest**"
   ]
  },
  {
   "cell_type": "code",
   "execution_count": null,
   "metadata": {},
   "outputs": [],
   "source": [
    "results_rf, model_rf = train_random_forest(\n",
    "    X_train_fs, X_test_fs, y_train, y_test,\n",
    "    model_name=\"Random Forest (FS Corr)\"\n",
    ")"
   ]
  },
  {
   "cell_type": "code",
   "execution_count": null,
   "metadata": {
    "id": "WYdeEwKZdY3_"
   },
   "outputs": [],
   "source": [
    "print(results_rf.to_string(index=False))"
   ]
  },
  {
   "cell_type": "markdown",
   "metadata": {
    "id": "hurFQRLIt09F"
   },
   "source": [
    "## Cross Validation"
   ]
  },
  {
   "cell_type": "code",
   "execution_count": null,
   "metadata": {},
   "outputs": [],
   "source": [
    "print(\"Validação Cruzada Random Forest:\")\n",
    "print(evaluate_model(\n",
    "    RandomForestClassifier(class_weight='balanced'), \n",
    "    X_train_fs, \n",
    "    y_train,\n",
    "    scaling=False\n",
    "))"
   ]
  },
  {
   "cell_type": "markdown",
   "metadata": {
    "id": "cucUPa6xgLh1"
   },
   "source": [
    "## **Xgboost**"
   ]
  },
  {
   "cell_type": "code",
   "execution_count": null,
   "metadata": {},
   "outputs": [],
   "source": [
    "results_xgb, model_xgb = train_xgboost(\n",
    "    X_train_fs, X_test_fs, y_train, y_test,\n",
    "    optimize_hyperparams=False\n",
    ")"
   ]
  },
  {
   "cell_type": "code",
   "execution_count": null,
   "metadata": {},
   "outputs": [],
   "source": [
    "results_xgb"
   ]
  },
  {
   "cell_type": "markdown",
   "metadata": {},
   "source": [
    "## Cross Validation"
   ]
  },
  {
   "cell_type": "code",
   "execution_count": null,
   "metadata": {
    "colab": {
     "base_uri": "https://localhost:8080/"
    },
    "id": "4g9TNbjdhjZn",
    "outputId": "074629bf-6bfb-493f-fd75-2b8f633ea670"
   },
   "outputs": [],
   "source": [
    "print(\"\\nValidação Cruzada - XGBoost (FS):\")\n",
    "print(evaluate_model(\n",
    "    XGBClassifier(objective='binary:logistic', eval_metric='aucpr'),\n",
    "    X_train_fs, \n",
    "    y_train,\n",
    "    scaling=False\n",
    "))"
   ]
  },
  {
   "cell_type": "markdown",
   "metadata": {},
   "source": [
    "## Encontrando novos parâmetos com Randomized Search"
   ]
  },
  {
   "cell_type": "code",
   "execution_count": null,
   "metadata": {},
   "outputs": [],
   "source": [
    "results_xgb_opt, xgb_opt_model, xgb_search = train_xgboost(\n",
    "   X_train_fs, X_test_fs, y_train, y_test,\n",
    "    optimize_hyperparams=True\n",
    ")"
   ]
  },
  {
   "cell_type": "code",
   "execution_count": null,
   "metadata": {},
   "outputs": [],
   "source": [
    "results = pd.concat([results_xgb, results_xgb_opt], ignore_index=True)\n",
    "print(results.to_string(index=False))"
   ]
  },
  {
   "cell_type": "markdown",
   "metadata": {},
   "source": [
    "## Cross Validation"
   ]
  },
  {
   "cell_type": "code",
   "execution_count": null,
   "metadata": {},
   "outputs": [],
   "source": [
    "print(\"\\nValidação Cruzada - XGBoost (Hiperparâmetros otimizados)\")\n",
    "print(evaluate_model(\n",
    "    xgb_opt_model,\n",
    "    X_train_fs,\n",
    "    y_train,\n",
    "    scaling=False\n",
    "))"
   ]
  },
  {
   "cell_type": "markdown",
   "metadata": {},
   "source": [
    "## Avaliação ROC/AUC com Cross Validation"
   ]
  },
  {
   "cell_type": "code",
   "execution_count": null,
   "metadata": {},
   "outputs": [],
   "source": [
    "params_base = {\n",
    "    'objective': 'binary:logistic',\n",
    "    'random_state': 42,\n",
    "    'n_estimators': 100,\n",
    "}\n",
    "\n",
    "params_opt = xgb_search.best_params_\n",
    "\n",
    "models = {\n",
    "    'XGB Padrão': XGBClassifier(**params_base),\n",
    "    'XGB Otimizado': XGBClassifier(**params_opt)\n",
    "}\n",
    "\n",
    "plot_multiple_roc_auc(models, X_train_fs, y_train.values)"
   ]
  },
  {
   "cell_type": "markdown",
   "metadata": {},
   "source": [
    "## Análise de importância das variáveis com SHAP"
   ]
  },
  {
   "cell_type": "code",
   "execution_count": null,
   "metadata": {},
   "outputs": [],
   "source": [
    "feature_names = X_train_fs.columns.tolist()\n",
    "\n",
    "xgb_classifier = xgb_opt_model\n",
    "\n",
    "explainer = shap.TreeExplainer(\n",
    "    xgb_classifier, \n",
    "    feature_names=feature_names\n",
    ")\n",
    "\n",
    "shap_values = explainer.shap_values(X_test_fs)\n",
    "\n",
    "shap.summary_plot(\n",
    "    shap_values, \n",
    "    features=X_test_fs, \n",
    "    feature_names=feature_names, \n",
    "    plot_type='bar',\n",
    "    show=False\n",
    ")\n",
    "\n",
    "plt.title(\"Importância de features - XGBoost otimizado\", fontsize=14)\n",
    "plt.tight_layout()\n",
    "plt.show()"
   ]
  },
  {
   "cell_type": "markdown",
   "metadata": {},
   "source": [
    "## **SVC**"
   ]
  },
  {
   "cell_type": "code",
   "execution_count": null,
   "metadata": {},
   "outputs": [],
   "source": [
    "results_svc, model_svc = train_svc(\n",
    "    X_train_fs, X_test_fs, y_train, y_test,\n",
    "    model_name=\"SVC (FS Corr)\"\n",
    ")"
   ]
  },
  {
   "cell_type": "code",
   "execution_count": null,
   "metadata": {},
   "outputs": [],
   "source": [
    "print(results_svc.to_string(index=False))"
   ]
  },
  {
   "cell_type": "markdown",
   "metadata": {},
   "source": [
    "## Cross Validation"
   ]
  },
  {
   "cell_type": "code",
   "execution_count": null,
   "metadata": {},
   "outputs": [],
   "source": [
    "print(\"Relatório de classificação - SVC:\")\n",
    "print(\"Validação Cruzada SVC:\")\n",
    "print(evaluate_model(\n",
    "    SVC(class_weight='balanced'), \n",
    "    X_train_fs, \n",
    "    y_train\n",
    "))"
   ]
  },
  {
   "cell_type": "markdown",
   "metadata": {},
   "source": [
    "## **KNN**"
   ]
  },
  {
   "cell_type": "code",
   "execution_count": null,
   "metadata": {},
   "outputs": [],
   "source": [
    "results_knn, model_knn = train_knn(\n",
    "    X_train_fs, X_test_fs, y_train, y_test,\n",
    "    model_name=\"KNN (FS Corr)\"\n",
    ")"
   ]
  },
  {
   "cell_type": "code",
   "execution_count": null,
   "metadata": {},
   "outputs": [],
   "source": [
    "print(results_knn.to_string(index=False))"
   ]
  },
  {
   "cell_type": "markdown",
   "metadata": {},
   "source": [
    "## Cross Validation"
   ]
  },
  {
   "cell_type": "code",
   "execution_count": null,
   "metadata": {},
   "outputs": [],
   "source": [
    "print(\"Relatório de classificação - KNN:\")\n",
    "print(\"Validação Cruzada KNN:\")\n",
    "print(evaluate_model(\n",
    "    KNeighborsClassifier(n_neighbors=3), \n",
    "    X_train_fs, \n",
    "    y_train\n",
    "))"
   ]
  },
  {
   "cell_type": "markdown",
   "metadata": {},
   "source": [
    "# Seleção de variáveis com Recursive Feature Elimination (RFE) usando XGBoost"
   ]
  },
  {
   "cell_type": "code",
   "execution_count": null,
   "metadata": {},
   "outputs": [],
   "source": [
    "X_train, X_test, y_train, y_test = split_data(X, y)\n",
    "\n",
    "xgb_fs = XGBClassifier(eval_metric='logloss', random_state=1)\n",
    "xgb_clf = XGBClassifier(eval_metric='logloss', random_state=1)\n",
    "\n",
    "rfe = RFECV(estimator=xgb_fs, scoring='recall', cv=5, n_jobs=-1)\n",
    "pipeline = Pipeline([\n",
    "    ('feature_selection', rfe),\n",
    "    ('classifier', xgb_clf)\n",
    "])\n",
    "\n",
    "cv = RepeatedStratifiedKFold(n_splits=10, n_repeats=3, random_state=1)\n",
    "n_scores = cross_val_score(\n",
    "    pipeline, X_train, y_train, \n",
    "    scoring='recall', cv=cv, n_jobs=-1\n",
    ")\n",
    "print('Recall (Validação Cruzada): %.3f (± %.3f)' % (np.mean(n_scores), np.std(n_scores)))"
   ]
  },
  {
   "cell_type": "code",
   "execution_count": null,
   "metadata": {},
   "outputs": [],
   "source": [
    "pipeline.fit(X_train, y_train)\n",
    "\n",
    "selected_features = X_train.columns[rfe.support_]\n",
    "print(\"\\nVariáveis selecionadas:\")\n",
    "print(selected_features.tolist())\n",
    "print(\"Número de variáveis:\", len(selected_features))"
   ]
  },
  {
   "cell_type": "code",
   "execution_count": null,
   "metadata": {},
   "outputs": [],
   "source": [
    "X_train_sel = X_train[selected_features]\n",
    "X_test_sel = X_test[selected_features]"
   ]
  },
  {
   "cell_type": "markdown",
   "metadata": {},
   "source": [
    "## Treinamento e avaliação da regressão logística com variáveis selecionadas (RFE)"
   ]
  },
  {
   "cell_type": "code",
   "execution_count": null,
   "metadata": {},
   "outputs": [],
   "source": [
    "results_lr_RFE, model_lr_RFE = train_logistic_regression(\n",
    "    X_train_sel, X_test_sel , y_train, y_test,\n",
    "    model_name=\"Regressão Logística (RFE)\"\n",
    ")"
   ]
  },
  {
   "cell_type": "code",
   "execution_count": null,
   "metadata": {},
   "outputs": [],
   "source": [
    "results = pd.concat([results_lr, results_lr_RFE], ignore_index=True)\n",
    "print(results.to_string(index=False))"
   ]
  },
  {
   "cell_type": "markdown",
   "metadata": {},
   "source": [
    "## Cross Validation"
   ]
  },
  {
   "cell_type": "code",
   "execution_count": null,
   "metadata": {},
   "outputs": [],
   "source": [
    "print(\"Validação Cruzada Regressão Logística:\")\n",
    "print(evaluate_model(\n",
    "    LogisticRegression(class_weight='balanced'), \n",
    "    X_train_sel, \n",
    "    y_train\n",
    "))"
   ]
  },
  {
   "cell_type": "markdown",
   "metadata": {},
   "source": [
    "# Feature selection com SelectKBest"
   ]
  },
  {
   "cell_type": "markdown",
   "metadata": {},
   "source": [
    "## Avaliação do desempenho do modelo para diferentes números de features selecionadas pelo SelectKBest"
   ]
  },
  {
   "cell_type": "code",
   "execution_count": null,
   "metadata": {},
   "outputs": [],
   "source": [
    "scores = []\n",
    "k_values = range(1, X_train.shape[1] + 1)\n",
    "\n",
    "for k in k_values:\n",
    "    pipe = Pipeline([\n",
    "        ('scaler', StandardScaler()),\n",
    "        ('select', SelectKBest(score_func=f_classif, k=k)),\n",
    "        ('clf', LogisticRegression(max_iter=1000, class_weight='balanced', random_state=42))\n",
    "    ])\n",
    "    \n",
    "    f1 = cross_val_score(pipe, X_train, y_train, cv=5, scoring='f1')\n",
    "    scores.append(f1.mean())\n",
    "\n",
    "best_k = k_values[np.argmax(scores)]\n",
    "best_f1 = max(scores)\n",
    "print(f\"Melhor k: {best_k}, F1-score: {best_f1:.4f}\")"
   ]
  },
  {
   "cell_type": "code",
   "execution_count": null,
   "metadata": {},
   "outputs": [],
   "source": [
    "best_pipe = Pipeline([\n",
    "    ('scaler', StandardScaler()),\n",
    "    ('select', SelectKBest(score_func=f_classif, k=best_k)),\n",
    "    ('clf', LogisticRegression(max_iter=1000, class_weight='balanced', random_state=42))\n",
    "])\n",
    "\n",
    "best_pipe.fit(X_train, y_train)\n",
    "\n",
    "selected_mask = best_pipe.named_steps['select'].get_support()\n",
    "selected_features = X_train.columns[selected_mask]\n",
    "print(f\"Features selecionadas ({len(selected_features)}):\", selected_features.tolist())"
   ]
  },
  {
   "cell_type": "markdown",
   "metadata": {},
   "source": [
    "## Plotando a curva F1-score x número de features selecionadas"
   ]
  },
  {
   "cell_type": "code",
   "execution_count": null,
   "metadata": {},
   "outputs": [],
   "source": [
    "best_k = k_values[np.argmax(scores)]\n",
    "best_f1 = max(scores)\n",
    "\n",
    "plt.plot(k_values, scores)\n",
    "plt.axvline(x=best_k, color='r', linestyle=':', label=f'Melhor k={best_k} (F1={best_f1:.4f})')\n",
    "plt.xlabel('Número de Features (k)')\n",
    "plt.ylabel('F1-score')\n",
    "plt.legend()\n",
    "plt.grid()\n",
    "plt.show()"
   ]
  },
  {
   "cell_type": "markdown",
   "metadata": {},
   "source": [
    "## Seleção final de features usando SelectKBest com k=19"
   ]
  },
  {
   "cell_type": "code",
   "execution_count": null,
   "metadata": {},
   "outputs": [],
   "source": [
    "X_train_kbest = best_pipe[:-1].transform(X_train)\n",
    "X_test_kbest = best_pipe[:-1].transform(X_test)"
   ]
  },
  {
   "cell_type": "markdown",
   "metadata": {},
   "source": [
    "# Treinamento e avaliação com SelectKBest"
   ]
  },
  {
   "cell_type": "markdown",
   "metadata": {},
   "source": [
    "## **Regressão Logística**"
   ]
  },
  {
   "cell_type": "code",
   "execution_count": null,
   "metadata": {},
   "outputs": [],
   "source": [
    "results_lr_KBest, model_lr_KBest = train_logistic_regression(\n",
    "    X_train_kbest, X_test_kbest , y_train, y_test,\n",
    "    model_name=\"Regressão Logística (SelectKBest)\",\n",
    "    scaling=False\n",
    ")"
   ]
  },
  {
   "cell_type": "markdown",
   "metadata": {},
   "source": [
    "## Comparando"
   ]
  },
  {
   "cell_type": "code",
   "execution_count": null,
   "metadata": {},
   "outputs": [],
   "source": [
    "results = pd.concat([results_lr, results_lr_RFE, results_lr_KBest], ignore_index=True)\n",
    "print(results.to_string(index=False))"
   ]
  },
  {
   "cell_type": "markdown",
   "metadata": {},
   "source": [
    "## Cross Validation"
   ]
  },
  {
   "cell_type": "code",
   "execution_count": null,
   "metadata": {},
   "outputs": [],
   "source": [
    "print(\"Validação Cruzada Regressão Logística (SelectKBest):\")\n",
    "print(evaluate_model(\n",
    "    LogisticRegression(class_weight='balanced'), \n",
    "    X_train_kbest, \n",
    "    y_train,\n",
    "    scaling=False\n",
    "))"
   ]
  },
  {
   "cell_type": "markdown",
   "metadata": {},
   "source": [
    "## **SVC**"
   ]
  },
  {
   "cell_type": "code",
   "execution_count": null,
   "metadata": {},
   "outputs": [],
   "source": [
    "results_svc_kbest, model_svc_kbest = train_svc(\n",
    "    X_train_kbest, X_test_kbest , y_train, y_test, \n",
    "    \"SVC (SelectKBest)\",\n",
    "    scaling=False)"
   ]
  },
  {
   "cell_type": "code",
   "execution_count": null,
   "metadata": {},
   "outputs": [],
   "source": [
    "results = pd.concat([results_svc, results_svc_kbest], ignore_index=True)\n",
    "print(results.to_string(index=False))"
   ]
  },
  {
   "cell_type": "markdown",
   "metadata": {},
   "source": [
    "## Cross Validation"
   ]
  },
  {
   "cell_type": "code",
   "execution_count": null,
   "metadata": {},
   "outputs": [],
   "source": [
    "print(\"Relatório de classificação - SVC (SelectKBest):\")\n",
    "print(evaluate_model(model_svc_kbest, X_train_kbest, y_train, scaling=False))"
   ]
  },
  {
   "cell_type": "markdown",
   "metadata": {},
   "source": [
    "## **KNN**"
   ]
  },
  {
   "cell_type": "code",
   "execution_count": null,
   "metadata": {},
   "outputs": [],
   "source": [
    "results_knn_kbest, model_knn_kbest = train_knn(\n",
    "    X_train_kbest, X_test_kbest , y_train, y_test, \n",
    "    \"KNN (SelectKBest)\",\n",
    "    scaling=False\n",
    ")"
   ]
  },
  {
   "cell_type": "code",
   "execution_count": null,
   "metadata": {},
   "outputs": [],
   "source": [
    "results = pd.concat([results_knn_kbest, results_knn], ignore_index=True)\n",
    "print(results.to_string(index=False))"
   ]
  },
  {
   "cell_type": "markdown",
   "metadata": {},
   "source": [
    "## Cross Validation"
   ]
  },
  {
   "cell_type": "code",
   "execution_count": null,
   "metadata": {},
   "outputs": [],
   "source": [
    "print(\"Relatório de classificação - KNN (SelectKBest):\")\n",
    "print(\"Validação Cruzada KNN:\")\n",
    "print(evaluate_model(\n",
    "    KNeighborsClassifier(n_neighbors=3), \n",
    "    X_train_kbest, \n",
    "    y_train,\n",
    "    scaling=False\n",
    "))"
   ]
  },
  {
   "cell_type": "markdown",
   "metadata": {
    "id": "RD0cHw_2oNno"
   },
   "source": [
    "## **Redução de dimensionalidade com PCA**\n",
    "Dado o alto número de features correlacionadas, utilizei a estratégia de redução de dimensionalidade."
   ]
  },
  {
   "cell_type": "markdown",
   "metadata": {},
   "source": [
    "## Separação e padronização dos dados"
   ]
  },
  {
   "cell_type": "code",
   "execution_count": null,
   "metadata": {},
   "outputs": [],
   "source": [
    "scaler = StandardScaler()\n",
    "X_train_pca_scaled = scaler.fit_transform(X_train)\n",
    "X_test_pca_scaled = scaler.transform(X_test)"
   ]
  },
  {
   "cell_type": "markdown",
   "metadata": {},
   "source": [
    "## Análise da variância explicada"
   ]
  },
  {
   "cell_type": "code",
   "execution_count": null,
   "metadata": {},
   "outputs": [],
   "source": [
    "pca = PCA()\n",
    "pca.fit(X_train_pca_scaled)\n",
    "\n",
    "cumulative_variance = np.cumsum(pca.explained_variance_ratio_)\n",
    "\n",
    "plt.figure(figsize=(10, 6))\n",
    "plt.plot(cumulative_variance, marker='o', label='Variância explicada acumulada')\n",
    "plt.axhline(y=0.95, color='r', linestyle='--', label='Limite: 95% da variância')\n",
    "plt.xlabel('Número de componentes')\n",
    "plt.ylabel('Variância explicada acumulada')\n",
    "plt.title('Variância explicada acumulada pelo PCA')\n",
    "plt.legend(loc='lower right')\n",
    "plt.grid(True)\n",
    "plt.show()"
   ]
  },
  {
   "cell_type": "markdown",
   "metadata": {},
   "source": [
    "## Aplicação do PCA com número otimizado de componentes"
   ]
  },
  {
   "cell_type": "code",
   "execution_count": null,
   "metadata": {},
   "outputs": [],
   "source": [
    "pca = PCA(n_components=0.95)\n",
    "pca.fit(X_train_pca_scaled)"
   ]
  },
  {
   "cell_type": "code",
   "execution_count": null,
   "metadata": {
    "id": "E4Pzto8LodiN"
   },
   "outputs": [],
   "source": [
    "X_train_pca = pca.transform(X_train_pca_scaled)\n",
    "X_test_pca = pca.transform(X_test_pca_scaled)"
   ]
  },
  {
   "cell_type": "markdown",
   "metadata": {},
   "source": [
    "# Modelagem após PCA"
   ]
  },
  {
   "cell_type": "markdown",
   "metadata": {
    "id": "BTiu_d-fohHG"
   },
   "source": [
    "## **Regressão Logística**"
   ]
  },
  {
   "cell_type": "code",
   "execution_count": null,
   "metadata": {
    "id": "qWHVToyWk8f0"
   },
   "outputs": [],
   "source": [
    "results_lr_pca, model_lr_pca = train_logistic_regression(\n",
    "    X_train_pca, X_test_pca , y_train, y_test, \n",
    "    \"Regressão Logística (PCA)\",\n",
    "    scaling=False)"
   ]
  },
  {
   "cell_type": "code",
   "execution_count": null,
   "metadata": {},
   "outputs": [],
   "source": [
    "results = pd.concat([results_lr, results_lr_RFE, results_lr_KBest, results_lr_pca], ignore_index=True)\n",
    "print(results.to_string(index=False))"
   ]
  },
  {
   "cell_type": "markdown",
   "metadata": {},
   "source": [
    "## Cross Validation"
   ]
  },
  {
   "cell_type": "code",
   "execution_count": null,
   "metadata": {
    "colab": {
     "base_uri": "https://localhost:8080/"
    },
    "id": "JcAH36yEpvZV",
    "outputId": "7fc00567-34dc-4d8f-f3db-0467124cf32e"
   },
   "outputs": [],
   "source": [
    "print(\"Relatório de classificação - Regressão Logística com PCA:\")\n",
    "print(evaluate_model(model_lr_pca, X_train_pca, y_train, scaling=False))"
   ]
  },
  {
   "cell_type": "markdown",
   "metadata": {
    "id": "IClUtvTzo6rd"
   },
   "source": [
    "## **SVC**"
   ]
  },
  {
   "cell_type": "code",
   "execution_count": null,
   "metadata": {},
   "outputs": [],
   "source": [
    "results_svc_pca, model_svc_pca = train_svc(\n",
    "    X_train_pca, X_test_pca , y_train, y_test, \n",
    "    \"SVC (PCA)\",\n",
    "    scaling=False    \n",
    ")"
   ]
  },
  {
   "cell_type": "code",
   "execution_count": null,
   "metadata": {},
   "outputs": [],
   "source": [
    "results = pd.concat([results_svc_pca, results_svc_kbest, results_svc], ignore_index=True)\n",
    "print(results.to_string(index=False))"
   ]
  },
  {
   "cell_type": "markdown",
   "metadata": {},
   "source": [
    "## Cross Validation"
   ]
  },
  {
   "cell_type": "code",
   "execution_count": null,
   "metadata": {
    "colab": {
     "base_uri": "https://localhost:8080/"
    },
    "id": "5RpZAAkpp6ZP",
    "outputId": "5f6e851a-142e-4336-d78b-f0b14389b381"
   },
   "outputs": [],
   "source": [
    "print(\"Relatório de classificação - SVC com PCA:\")\n",
    "print(evaluate_model(model_svc_pca, X_train_pca, y_train, scaling=False))"
   ]
  },
  {
   "cell_type": "markdown",
   "metadata": {
    "id": "gEt1Jl0opT45"
   },
   "source": [
    "## **KNN**"
   ]
  },
  {
   "cell_type": "code",
   "execution_count": null,
   "metadata": {
    "id": "5riIl7YLpXLK"
   },
   "outputs": [],
   "source": [
    "results_knn_pca, model_knn_pca = train_knn(\n",
    "    X_train_pca, X_test_pca , y_train, y_test, \n",
    "    \"KNN (PCA)\", \n",
    "    scaling=False\n",
    ")"
   ]
  },
  {
   "cell_type": "code",
   "execution_count": null,
   "metadata": {},
   "outputs": [],
   "source": [
    "results = pd.concat([results_knn_kbest, results_knn, results_knn_pca], ignore_index=True)\n",
    "print(results.to_string(index=False))"
   ]
  },
  {
   "cell_type": "markdown",
   "metadata": {},
   "source": [
    "## Cross Validation"
   ]
  },
  {
   "cell_type": "code",
   "execution_count": null,
   "metadata": {
    "colab": {
     "base_uri": "https://localhost:8080/"
    },
    "id": "8o2sSR7ip8dS",
    "outputId": "f52c3d47-3835-4cbb-995d-48bbde3d67a7"
   },
   "outputs": [],
   "source": [
    "print(\"Relatório de classificação - KNN com PCA:\")\n",
    "print(evaluate_model(model_knn_pca, X_train_pca, y_train, scaling=False))"
   ]
  },
  {
   "cell_type": "markdown",
   "metadata": {},
   "source": [
    "## Comparação de modelos"
   ]
  },
  {
   "cell_type": "code",
   "execution_count": null,
   "metadata": {},
   "outputs": [],
   "source": [
    "results = pd.concat([\n",
    "    results_lr, results_rf, results_xgb, \n",
    "    results_xgb_opt, results_svc, results_knn,\n",
    "    results_lr_RFE, results_lr_KBest,\n",
    "    results_svc_kbest, results_knn_kbest,\n",
    "    results_lr_pca, results_svc_pca, results_knn_pca\n",
    "], ignore_index=True)\n",
    "\n",
    "results.insert(0, 'Técnica', ['FS Corr']*6 + ['RFE']*1 + ['SelectKBest']*3 + ['PCA']*3)\n",
    "results.index = range(1, len(results)+1)\n",
    "\n",
    "final_results = (results.style\n",
    "             .highlight_max(subset=['Accuracy', 'Recall', 'Precision', 'F1 Score'], color='#d4edda')\n",
    "             .highlight_max(subset=['AUC'], color='#cce5ff')\n",
    "             .format({\n",
    "                 'Accuracy': '{:.4f}',\n",
    "                 'Recall': '{:.4f}',\n",
    "                 'Precision': '{:.4f}',\n",
    "                 'F1 Score': '{:.4f}',\n",
    "                 'AUC': '{:.4f}'\n",
    "             })\n",
    "             .set_caption('Comparação de Modelos - Métricas de Performance'))\n",
    "\n",
    "final_results"
   ]
  },
  {
   "cell_type": "markdown",
   "metadata": {},
   "source": [
    "## Gráfico de comparação de desempenho dos modelos"
   ]
  },
  {
   "cell_type": "code",
   "execution_count": null,
   "metadata": {},
   "outputs": [],
   "source": [
    "results_long = results.melt(id_vars='Modelo', \n",
    "                            value_vars=['Accuracy', 'Recall', 'Precision', 'F1 Score', 'AUC'],\n",
    "                            var_name='Métrica', \n",
    "                            value_name='Valor')\n",
    "\n",
    "plt.figure(figsize=(12, 8))\n",
    "sns.barplot(data=results_long, y='Modelo', x='Valor', hue='Métrica')\n",
    "plt.title('Comparação de Desempenho dos Modelos', fontsize=16)\n",
    "plt.xlim(0.9, 1.0)\n",
    "plt.xlabel('Pontuação', fontsize=12)\n",
    "plt.ylabel('Modelos', fontsize=12)\n",
    "plt.xticks(fontsize=11)\n",
    "plt.yticks(fontsize=11)\n",
    "plt.legend(title='Métrica', bbox_to_anchor=(1.05, 1), loc='upper left')\n",
    "plt.tight_layout()\n",
    "plt.show()"
   ]
  },
  {
   "cell_type": "markdown",
   "metadata": {},
   "source": [
    "## Conclusão final sobre a seleção do modelo\n",
    "Diante do objetivo central deste projeto — **minimizar falsos negativos** na detecção de câncer de mama —, priorizei a métrica de Recall como fator decisivo. Uma classificação incorreta de um caso maligno (falso negativo) pode ter consequências críticas. Após avaliação rigorosa de múltiplas técnicas e algoritmos, o modelo **XGBoost (Padrão ou com Hiperparâmetros Otimizados)** emergiu como a melhor solução, oferecendo o melhor equilíbrio entre precisão diagnóstica e segurança clínica.\n",
    "\n",
    "\n",
    "### Destaques do modelo selecionado: XGBoost (hiperparâmetros otimizados)\n",
    "- **Recall**: 0.9767 – detectou praticamente todos os casos positivos\n",
    "- **Precisão**: 1.0 – nenhuma previsão positiva foi incorreta\n",
    "- **F1 Score**: 0.9882 – melhor equilíbrio entre sensibilidade e precisão\n",
    "- **AUC**: 0.9964 – excelente capacidade de separação entre classes\n",
    "\n",
    "### Vantagens-chave\n",
    "- Reduz o risco de diagnósticos fatais (apenas 1 falso negativo em 114 casos)\n",
    "- Nenhum falso positivo (100% de precisão)\n",
    "- Excelente equilíbrio entre métricas\n",
    "- Forte capacidade discriminativa (AUC próximo de 1)\n",
    "- Consistência entre validação cruzada e conjunto de teste\n",
    "- Amplo uso e desempenho confiável em tarefas reais de classificação"
   ]
  },
  {
   "cell_type": "markdown",
   "metadata": {},
   "source": [
    "## Preparação para deploy\n",
    "Para tornar o projeto reprodutível e aplicável, o modelo final foi encapsulado em um Pipeline com pré-processamento padronizado, treinado novamente no conjunto de treino e salvo em models/xgboost_breast_cancer_fs_optimized.pkl. Esse arquivo é carregado no aplicativo interativo (app.py), permitindo prever novos casos de forma simples e consistente."
   ]
  },
  {
   "cell_type": "code",
   "execution_count": null,
   "metadata": {},
   "outputs": [],
   "source": [
    "metrics_df, trained_xgb, search = train_xgboost(\n",
    "    X_train_fs, X_test_fs, y_train, y_test,\n",
    "    optimize_hyperparams=True,\n",
    "    n_iter=100,\n",
    "    cv=10\n",
    ")\n",
    "\n",
    "final_pipeline = Pipeline(steps=[\n",
    "    ('classifier', trained_xgb)\n",
    "])\n",
    "\n",
    "final_pipeline.fit(X_train_fs, y_train)\n",
    "\n",
    "joblib.dump(final_pipeline, \"../models/xgboost_breast_cancer_fs_optimized.pkl\")\n",
    "print(\"Salvo em models/xgboost_breast_cancer_fs_optimized.pkl\")"
   ]
  },
  {
   "cell_type": "markdown",
   "metadata": {},
   "source": [
    "## Créditos e contato\n",
    "\n",
    "**Desenvolvido por:**  \n",
    "Bruno Casini\n",
    "\n",
    "**GitHub:**  \n",
    "[<img src=\"https://img.icons8.com/ios-filled/20/000000/github.png\"/> GitHub](https://github.com/kzini)  \n",
    "`https://github.com/kzini`\n",
    "\n",
    "**LinkedIn:**  \n",
    "<img src=\"https://img.icons8.com/ios-filled/20/000000/linkedin.png\"/> Em construção "
   ]
  },
  {
   "cell_type": "code",
   "execution_count": null,
   "metadata": {},
   "outputs": [],
   "source": []
  }
 ],
 "metadata": {
  "colab": {
   "provenance": []
  },
  "kernelspec": {
   "display_name": "Python 3 (ipykernel)",
   "language": "python",
   "name": "python3"
  },
  "language_info": {
   "codemirror_mode": {
    "name": "ipython",
    "version": 3
   },
   "file_extension": ".py",
   "mimetype": "text/x-python",
   "name": "python",
   "nbconvert_exporter": "python",
   "pygments_lexer": "ipython3",
   "version": "3.12.3"
  }
 },
 "nbformat": 4,
 "nbformat_minor": 4
}
